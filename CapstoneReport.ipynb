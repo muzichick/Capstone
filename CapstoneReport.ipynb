{
 "cells": [
  {
   "cell_type": "markdown",
   "metadata": {},
   "source": [
    "## Introduction"
   ]
  },
  {
   "cell_type": "markdown",
   "metadata": {},
   "source": [
    "Car accidents result in millions of dollars in property damage and injury annually nationwide.\n",
    "\n",
    "Can we use existing accident data, such as speeding, inattention, number of vehicles, involvement of pedestrians , to calculate their influence in predicting the severity of an accident?\n",
    "\n",
    "Could the relationship between existing accident data and outcome severity, be useful in making future laws, or driver regulations?"
   ]
  },
  {
   "cell_type": "markdown",
   "metadata": {},
   "source": [
    "## Data"
   ]
  },
  {
   "cell_type": "markdown",
   "metadata": {},
   "source": [
    "The data will be harvested from the Seattle Police Department collisions data set. We will primarily focus on the data for accident severity, speeding, driver inattention, number of vehicles involved, number of persons involved, and potentially number of pedestrians. We will then look at the independant variables listed above, to see if they can be used to predict an outcome, which is the severity of accident, classified as property damage, injury, serious injury and fatality. "
   ]
  },
  {
   "cell_type": "code",
   "execution_count": null,
   "metadata": {},
   "outputs": [],
   "source": []
  }
 ],
 "metadata": {
  "kernelspec": {
   "display_name": "Python",
   "language": "python",
   "name": "conda-env-python-py"
  },
  "language_info": {
   "codemirror_mode": {
    "name": "ipython",
    "version": 3
   },
   "file_extension": ".py",
   "mimetype": "text/x-python",
   "name": "python",
   "nbconvert_exporter": "python",
   "pygments_lexer": "ipython3",
   "version": "3.6.11"
  }
 },
 "nbformat": 4,
 "nbformat_minor": 4
}

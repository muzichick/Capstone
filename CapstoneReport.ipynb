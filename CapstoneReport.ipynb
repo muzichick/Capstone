{
 "cells": [
  {
   "cell_type": "markdown",
   "metadata": {},
   "source": [
    "## Introduction"
   ]
  },
  {
   "cell_type": "markdown",
   "metadata": {},
   "source": [
    "Car accidents result in millions of dollars in property damage and injury annually nationwide.\n",
    "\n",
    "Can we use existing accident data, such as speeding, inattention, number of vehicles, involvement of pedestrians , to calculate their influence in predicting the severity of an accident?\n",
    "\n",
    "Could the relationship between existing accident data and outcome severity, be useful in making future laws, or driver regulations?"
   ]
  },
  {
   "cell_type": "markdown",
   "metadata": {},
   "source": [
    "## Data"
   ]
  },
  {
   "cell_type": "markdown",
   "metadata": {},
   "source": [
    "The data will be harvested from the Seattle Police Department collisions data set. We will primarily focus on the data for accident severity, speeding, driver inattention, number of vehicles involved, number of persons involved, and potentially number of pedestrians. We will then look at the independant variables listed above, to see if they can be used to predict an outcome, which is the severity of accident, classified as property damage, injury, serious injury and fatality. "
   ]
  },
  {
   "cell_type": "markdown",
   "metadata": {},
   "source": [
    "## Initial Data Exploration"
   ]
  },
  {
   "cell_type": "markdown",
   "metadata": {},
   "source": [
    "Initially, the data was imported into a pandas dataframe in raw form, from the Seattle Police Department Traffic Records department on September 23, 2020.  This data is updated weekly, so it is important to note the date on which the data was obtained.\n",
    "\n",
    "Since there are many columns of data included in the raw dataframe, we need to focus in on the data columns of interest, which are as follows: \n",
    "\n",
    "1) Accident severity code (column name \"SEVERITYCODE\").  This is the dependant variable we would like to predict.  This code contains text values as follows: \n",
    "        0: Unknown\n",
    "        1: Property Damage\n",
    "        2: Injury\n",
    "        2b: Serious Injury\n",
    "        3: Fatality\n",
    "        \n",
    "2) Number of people involved (column name \"PERSONCOUNT\").  This is one of the independant variables we would like to use, to see if we can predict the accident severity.  This column contains intiger values.\n",
    "\n",
    "3) Number of pedestrains involved (column name \"PEDCOUNT\").  This is one of the independant variables we would like to use, to see if we can predict the accident severity.  This column contains intiger values.\n",
    "\n",
    "4) Number of cyclists involved (column name \"PEDCYLCOUNT\").  This is one of the independant variables we would like to use, to see if we can predict the accident severity.  This column contains intiger values.\n",
    "\n",
    "5) Number of vehicles involved (column name \"VEHCOUNT\").  This is one of the independant variables we would like to use, to see if we can predict the accident severity.  This column contains intiger values.\n",
    "\n",
    "6) If driver inattention was involved (column name \"INATTENTIONIND\").  This is one of the indepentant variables we would like to use, to see if we can predict the accident severity.  This column contains text values of Y, if driver inattention was involved, and is left blank if no driver inattention was involved.\n",
    "\n",
    "7) If speeding was involved (column name \"SPEEDING\").  This is one of the indepentant variables we would like to use, to see if we can predict the accident severity.  This column contains text values of Y, if speeding was involved, and is left blank if no driver inattention was involved.\n",
    "\n",
    "\n"
   ]
  },
  {
   "cell_type": "markdown",
   "metadata": {},
   "source": [
    "Next, a dataframe containing only the columns above was created. Then, to begin to initially explore the data, we used the pandas describe method, to find general information about the data, such as the number of rows (194673), and the value spread in each column."
   ]
  },
  {
   "cell_type": "markdown",
   "metadata": {},
   "source": [
    "![](DfDescribe.png)"
   ]
  },
  {
   "cell_type": "markdown",
   "metadata": {},
   "source": [
    "From this inital exploration of data, we can see that there is no accident contained with a severity over 2, which is injury. Since we have two data types which contain text, we will also need to run an all data descrition method, to see the number of occurrences of driver inattention, and speeding.  "
   ]
  },
  {
   "cell_type": "markdown",
   "metadata": {},
   "source": [
    "![](Describeall.png)"
   ]
  },
  {
   "cell_type": "markdown",
   "metadata": {},
   "source": [
    "From this describe method, we can find that there were 29808 instances where driver inattention was a factor, and 9333 times where speeding was a factor."
   ]
  },
  {
   "cell_type": "code",
   "execution_count": null,
   "metadata": {},
   "outputs": [],
   "source": []
  }
 ],
 "metadata": {
  "kernelspec": {
   "display_name": "Python",
   "language": "python",
   "name": "conda-env-python-py"
  },
  "language_info": {
   "codemirror_mode": {
    "name": "ipython",
    "version": 3
   },
   "file_extension": ".py",
   "mimetype": "text/x-python",
   "name": "python",
   "nbconvert_exporter": "python",
   "pygments_lexer": "ipython3",
   "version": "3.6.11"
  }
 },
 "nbformat": 4,
 "nbformat_minor": 4
}
